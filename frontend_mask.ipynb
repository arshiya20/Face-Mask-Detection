{
 "cells": [
  {
   "cell_type": "code",
   "execution_count": 2,
   "metadata": {},
   "outputs": [],
   "source": [
    "import cv2 as cv\n",
    "import numpy as np\n",
    "from keras.models import load_model\n",
    "model=load_model(\"./mask.h5\")\n",
    "results={0:'mask',1:'no mask'}\n",
    "GR_dict={1:(0,0,255),0:(0,255,0)}\n",
    "rect_size = 5\n",
    "cap = cv.VideoCapture(0)\n",
    "haarcascade = cv.CascadeClassifier(r'F:\\codes\\vs code pgms\\haarcascades\\haarcascade_frontalface_default.xml')\n",
    "while True:\n",
    "    (rval, im) = cap.read()\n",
    "    im=cv.flip(im,1,1) \n",
    "    rerect_size = cv.resize(im, (im.shape[1]// rect_size, im.shape[0] // rect_size))\n",
    "    faces = haarcascade.detectMultiScale(rerect_size)\n",
    "    for f in faces:\n",
    "        (x, y, w, h) = [v * rect_size for v in f] \n",
    "        face_img = im[y:y+h, x:x+w]\n",
    "        rerect_sized=cv.resize(face_img,(224,224))\n",
    "        normalized=rerect_sized/255.0\n",
    "        reshaped=np.reshape(normalized,(1,224,224,3))\n",
    "        reshaped = np.vstack([reshaped])\n",
    "        result=model.predict(reshaped)\n",
    "        label=np.argmax(result,axis=1)[0]\n",
    "      \n",
    "        cv.rectangle(im,(x,y),(x+w,y+h),GR_dict[label],2)\n",
    "        cv.rectangle(im,(x,y-40),(x+w,y),GR_dict[label],-1)\n",
    "        cv.putText(im, results[label], (x, y-10),cv.FONT_HERSHEY_SIMPLEX,0.8,(255,255,255),2)\n",
    "    cv.imshow('LIVE',   im)\n",
    "    key = cv.waitKey(10)\n",
    "    \n",
    "    if key == 27: \n",
    "        break\n",
    "cap.release()\n",
    "cv.destroyAllWindows()"
   ]
  },
  {
   "cell_type": "code",
   "execution_count": null,
   "metadata": {},
   "outputs": [],
   "source": []
  },
  {
   "cell_type": "code",
   "execution_count": null,
   "metadata": {},
   "outputs": [],
   "source": []
  }
 ],
 "metadata": {
  "kernelspec": {
   "display_name": "Python 3",
   "language": "python",
   "name": "python3"
  },
  "language_info": {
   "codemirror_mode": {
    "name": "ipython",
    "version": 3
   },
   "file_extension": ".py",
   "mimetype": "text/x-python",
   "name": "python",
   "nbconvert_exporter": "python",
   "pygments_lexer": "ipython3",
   "version": "3.7.4"
  }
 },
 "nbformat": 4,
 "nbformat_minor": 2
}
